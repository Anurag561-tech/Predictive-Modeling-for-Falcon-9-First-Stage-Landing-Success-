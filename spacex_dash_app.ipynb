{
 "cells": [
  {
   "cell_type": "code",
   "execution_count": null,
   "id": "f648c412-6c49-4de5-938a-2d33b61db5bc",
   "metadata": {},
   "outputs": [
    {
     "name": "stderr",
     "output_type": "stream",
     "text": [
      "<ipython-input-1-f149f025b070>:3: UserWarning: \n",
      "The dash_html_components package is deprecated. Please replace\n",
      "`import dash_html_components as html` with `from dash import html`\n",
      "  import dash_html_components as html\n",
      "<ipython-input-1-f149f025b070>:4: UserWarning: \n",
      "The dash_core_components package is deprecated. Please replace\n",
      "`import dash_core_components as dcc` with `from dash import dcc`\n",
      "  import dash_core_components as dcc\n"
     ]
    },
    {
     "data": {
      "text/html": [
       "\n",
       "        <iframe\n",
       "            width=\"100%\"\n",
       "            height=\"650\"\n",
       "            src=\"http://127.0.0.1:8050/\"\n",
       "            frameborder=\"0\"\n",
       "            allowfullscreen\n",
       "            \n",
       "        ></iframe>\n",
       "        "
      ],
      "text/plain": [
       "<IPython.lib.display.IFrame at 0x2600cbcfc90>"
      ]
     },
     "metadata": {},
     "output_type": "display_data"
    }
   ],
   "source": [
    "import pandas as pd\n",
    "import dash\n",
    "import dash_html_components as html\n",
    "import dash_core_components as dcc\n",
    "from dash.dependencies import Input, Output\n",
    "import plotly.express as px\n",
    "\n",
    "spacex_df = pd.read_csv(r\"C:\\Users\\sriva\\COURSE_10 photos\\spacex_launch_dash.csv\")\n",
    "max_payload = spacex_df['Payload Mass (kg)'].max()\n",
    "min_payload = spacex_df['Payload Mass (kg)'].min()\n",
    "\n",
    "# Creating a dash application\n",
    "app = dash.Dash(__name__)\n",
    "\n",
    "# Creating an app layout\n",
    "app.layout = html.Div(children=[html.H1('SpaceX Launch Records Dashboard',\n",
    "                                        style={'textAlign': 'center', 'color': '#503D36',\n",
    "                                               'font-size': 40}),\n",
    "                                \n",
    "                                dcc.Dropdown(id='site-dropdown',  \n",
    "                                              options=[\n",
    "                                                {'label': 'All Sites', 'value': 'ALL'},\n",
    "                                                {'label': 'CCAFS LC-40', 'value': 'CCAFS LC-40'},\n",
    "                                                {'label': 'VAFB SLC-4E', 'value': 'VAFB SLC-4E'},\n",
    "                                                {'label': 'KSC LC-39A', 'value': 'KSC LC-39A'},\n",
    "                                                {'label': 'CCAFS SLC-40', 'value': 'CCAFS SLC-40'}],\n",
    "                                              value='ALL',\n",
    "                                              placeholder='place holder here',\n",
    "                                              searchable=True\n",
    "                                              ),\n",
    "                                html.Br(),\n",
    "                                html.Div(dcc.Graph(id='success-pie-chart')),\n",
    "                                html.Br(),\n",
    "\n",
    "                                html.P(\"Payload range (Kg):\"),\n",
    "                                dcc.RangeSlider(id='payload-slider', min=min_payload, max=max_payload, step=1000, marks={int(min_payload): str(int(min_payload)), int(max_payload):str(int(max_payload))}, value=[min_payload, max_payload]),\n",
    "\n",
    "                    \n",
    "                                html.Div(dcc.Graph(id='success-payload-scatter-chart')),\n",
    "                                ])\n",
    "\n",
    "@app.callback(Output(component_id='success-pie-chart', component_property='figure'),\n",
    "              Input(component_id='site-dropdown', component_property='value'))\n",
    "\n",
    "def get_pie_chart(entered_site):\n",
    "    filtered_df = spacex_df\n",
    "    if entered_site == 'ALL':\n",
    "        fig=px.pie(filtered_df, values='class',\n",
    "        names='Launch Site',\n",
    "        title='Total Success Launches by Site')\n",
    "        return fig\n",
    "    else:\n",
    "        df7 = filtered_df[filtered_df['Launch Site'] == entered_site]\n",
    "        df7 = df7.groupby(['Launch Site', 'class']).size().reset_index(name='class count')\n",
    "        fig=px.pie(df7, values='class count', names='class', title='Total Success Launches for Site {}'.format(entered_site))\n",
    "        return fig\n",
    "\n",
    "@app.callback(Output(component_id='success-payload-scatter-chart', component_property='figure'),\n",
    "              [Input(component_id='site-dropdown', component_property='value'), Input(component_id='payload-slider', component_property='value')])\n",
    "\n",
    "def get_scatter_chart(site_location, payload):\n",
    "    filtered_df = spacex_df[spacex_df['Payload Mass (kg)'].between(payload[0],payload[1])]\n",
    "    if site_location == 'ALL':\n",
    "        fig=px.scatter(filtered_df, x='Payload Mass (kg)', y='class', color=\"Booster Version Category\", title='Correaltion between payload and success for all sites')\n",
    "        return fig\n",
    "    else:\n",
    "        df8 = filtered_df[filtered_df['Launch Site'] == site_location]\n",
    "        # df8 = df8.groupby(['Launch Site','class'])['Payload Mass (kg)'].mean().reset_index()\n",
    "        fig=px.scatter(df8, x='Payload Mass (kg)', y='class', color=\"Booster Version Category\", title='Correaltion between payload and success for site {}'.format(site_location))\n",
    "        return fig\n",
    "\n",
    "# Runing the app\n",
    "if __name__ == '__main__':\n",
    "    app.run_server()"
   ]
  }
 ],
 "metadata": {
  "language_info": {
   "codemirror_mode": {
    "name": "ipython",
    "version": 3
   },
   "file_extension": ".py",
   "mimetype": "text/x-python",
   "name": "python",
   "nbconvert_exporter": "python",
   "pygments_lexer": "ipython3",
   "version": 3
  }
 },
 "nbformat": 4,
 "nbformat_minor": 2
}
